{
  "cells": [
    {
      "cell_type": "markdown",
      "metadata": {
        "id": "view-in-github",
        "colab_type": "text"
      },
      "source": [
        "<a href=\"https://colab.research.google.com/github/shailesh3335/Project/blob/main/Article_Web_Scraping.ipynb\" target=\"_parent\"><img src=\"https://colab.research.google.com/assets/colab-badge.svg\" alt=\"Open In Colab\"/></a>"
      ]
    },
    {
      "cell_type": "code",
      "execution_count": null,
      "id": "b4ec3122",
      "metadata": {
        "id": "b4ec3122"
      },
      "outputs": [],
      "source": [
        "import requests\n",
        "from bs4 import BeautifulSoup"
      ]
    },
    {
      "cell_type": "code",
      "execution_count": null,
      "id": "d3db5e23",
      "metadata": {
        "id": "d3db5e23"
      },
      "outputs": [],
      "source": [
        "url = \"https://content.guardianapis.com/technology/artificialintelligenceai?&api-key=01dd6b39-66d5-4ed8-8335-9dd17fe41a3f&type=article&page=1\""
      ]
    },
    {
      "cell_type": "code",
      "execution_count": null,
      "id": "f73a8fe2",
      "metadata": {
        "id": "f73a8fe2"
      },
      "outputs": [],
      "source": [
        "response=requests.get(url)"
      ]
    },
    {
      "cell_type": "code",
      "execution_count": null,
      "id": "b8ddd166",
      "metadata": {
        "id": "b8ddd166",
        "outputId": "1521b16b-8b9b-43e7-cd9a-96fea76db61c",
        "colab": {
          "base_uri": "https://localhost:8080/"
        }
      },
      "outputs": [
        {
          "output_type": "execute_result",
          "data": {
            "text/plain": [
              "<Response [200]>"
            ]
          },
          "metadata": {},
          "execution_count": 4
        }
      ],
      "source": [
        "response"
      ]
    },
    {
      "cell_type": "code",
      "execution_count": null,
      "id": "b20916fb",
      "metadata": {
        "id": "b20916fb"
      },
      "outputs": [],
      "source": [
        "x=response.json()"
      ]
    },
    {
      "cell_type": "code",
      "execution_count": null,
      "id": "695743f4",
      "metadata": {
        "id": "695743f4",
        "outputId": "d3675d8c-229d-4adb-8c34-36bdeca781b4",
        "colab": {
          "base_uri": "https://localhost:8080/"
        }
      },
      "outputs": [
        {
          "output_type": "execute_result",
          "data": {
            "text/plain": [
              "{'response': {'status': 'ok',\n",
              "  'userTier': 'developer',\n",
              "  'total': 2064,\n",
              "  'startIndex': 1,\n",
              "  'pageSize': 10,\n",
              "  'currentPage': 1,\n",
              "  'pages': 207,\n",
              "  'orderBy': 'newest',\n",
              "  'tag': {'id': 'technology/artificialintelligenceai',\n",
              "   'type': 'keyword',\n",
              "   'sectionId': 'technology',\n",
              "   'sectionName': 'Technology',\n",
              "   'webTitle': 'Artificial intelligence (AI)',\n",
              "   'webUrl': 'https://www.theguardian.com/technology/artificialintelligenceai',\n",
              "   'apiUrl': 'https://content.guardianapis.com/technology/artificialintelligenceai'},\n",
              "  'results': [{'id': 'technology/2024/feb/11/ai-safety-institute-needs-to-set-standards-rather-than-do-testing',\n",
              "    'type': 'article',\n",
              "    'sectionId': 'technology',\n",
              "    'sectionName': 'Technology',\n",
              "    'webPublicationDate': '2024-02-11T11:25:46Z',\n",
              "    'webTitle': 'UK’s AI Safety Institute ‘needs to set standards rather than do testing’',\n",
              "    'webUrl': 'https://www.theguardian.com/technology/2024/feb/11/ai-safety-institute-needs-to-set-standards-rather-than-do-testing',\n",
              "    'apiUrl': 'https://content.guardianapis.com/technology/2024/feb/11/ai-safety-institute-needs-to-set-standards-rather-than-do-testing',\n",
              "    'isHosted': False,\n",
              "    'pillarId': 'pillar/news',\n",
              "    'pillarName': 'News'},\n",
              "   {'id': 'technology/2024/feb/10/ai-political-images-ban-trump-biden-midjourney',\n",
              "    'type': 'article',\n",
              "    'sectionId': 'technology',\n",
              "    'sectionName': 'Technology',\n",
              "    'webPublicationDate': '2024-02-10T17:52:55Z',\n",
              "    'webTitle': 'AI firm considers banning creation of political images for 2024 elections',\n",
              "    'webUrl': 'https://www.theguardian.com/technology/2024/feb/10/ai-political-images-ban-trump-biden-midjourney',\n",
              "    'apiUrl': 'https://content.guardianapis.com/technology/2024/feb/10/ai-political-images-ban-trump-biden-midjourney',\n",
              "    'isHosted': False,\n",
              "    'pillarId': 'pillar/news',\n",
              "    'pillarName': 'News'},\n",
              "   {'id': 'technology/2024/feb/09/ai-safeguards-can-easily-be-broken-uk-safety-institute-finds',\n",
              "    'type': 'article',\n",
              "    'sectionId': 'technology',\n",
              "    'sectionName': 'Technology',\n",
              "    'webPublicationDate': '2024-02-09T18:41:36Z',\n",
              "    'webTitle': 'AI safeguards can easily be broken, UK Safety Institute finds',\n",
              "    'webUrl': 'https://www.theguardian.com/technology/2024/feb/09/ai-safeguards-can-easily-be-broken-uk-safety-institute-finds',\n",
              "    'apiUrl': 'https://content.guardianapis.com/technology/2024/feb/09/ai-safeguards-can-easily-be-broken-uk-safety-institute-finds',\n",
              "    'isHosted': False,\n",
              "    'pillarId': 'pillar/news',\n",
              "    'pillarName': 'News'},\n",
              "   {'id': 'fashion/2024/feb/08/ai-london-fashion-week',\n",
              "    'type': 'article',\n",
              "    'sectionId': 'fashion',\n",
              "    'sectionName': 'Fashion',\n",
              "    'webPublicationDate': '2024-02-08T18:28:35Z',\n",
              "    'webTitle': 'How AI is ‘amplifying creativity’ in the fashion world',\n",
              "    'webUrl': 'https://www.theguardian.com/fashion/2024/feb/08/ai-london-fashion-week',\n",
              "    'apiUrl': 'https://content.guardianapis.com/fashion/2024/feb/08/ai-london-fashion-week',\n",
              "    'isHosted': False,\n",
              "    'pillarId': 'pillar/lifestyle',\n",
              "    'pillarName': 'Lifestyle'},\n",
              "   {'id': 'technology/2024/feb/08/us-outlaws-robocalls-ai-generated-voices',\n",
              "    'type': 'article',\n",
              "    'sectionId': 'technology',\n",
              "    'sectionName': 'Technology',\n",
              "    'webPublicationDate': '2024-02-08T18:27:28Z',\n",
              "    'webTitle': 'US outlaws robocalls that use AI-generated voices',\n",
              "    'webUrl': 'https://www.theguardian.com/technology/2024/feb/08/us-outlaws-robocalls-ai-generated-voices',\n",
              "    'apiUrl': 'https://content.guardianapis.com/technology/2024/feb/08/us-outlaws-robocalls-ai-generated-voices',\n",
              "    'isHosted': False,\n",
              "    'pillarId': 'pillar/news',\n",
              "    'pillarName': 'News'},\n",
              "   {'id': 'business/2024/feb/08/arm-shares-ai-chip-maker-revenue-tech-smartphone',\n",
              "    'type': 'article',\n",
              "    'sectionId': 'business',\n",
              "    'sectionName': 'Business',\n",
              "    'webPublicationDate': '2024-02-08T15:48:35Z',\n",
              "    'webTitle': 'Shares in chip designer Arm soar by more than 50% leaving it valued at $120bn',\n",
              "    'webUrl': 'https://www.theguardian.com/business/2024/feb/08/arm-shares-ai-chip-maker-revenue-tech-smartphone',\n",
              "    'apiUrl': 'https://content.guardianapis.com/business/2024/feb/08/arm-shares-ai-chip-maker-revenue-tech-smartphone',\n",
              "    'isHosted': False,\n",
              "    'pillarId': 'pillar/news',\n",
              "    'pillarName': 'News'},\n",
              "   {'id': 'technology/2024/feb/08/iran-backed-hackers-interrupt-uae-tv-streaming-services-with-deepfake-news',\n",
              "    'type': 'article',\n",
              "    'sectionId': 'technology',\n",
              "    'sectionName': 'Technology',\n",
              "    'webPublicationDate': '2024-02-08T12:17:37Z',\n",
              "    'webTitle': 'Iran-backed hackers interrupt UAE TV streaming services with deepfake news',\n",
              "    'webUrl': 'https://www.theguardian.com/technology/2024/feb/08/iran-backed-hackers-interrupt-uae-tv-streaming-services-with-deepfake-news',\n",
              "    'apiUrl': 'https://content.guardianapis.com/technology/2024/feb/08/iran-backed-hackers-interrupt-uae-tv-streaming-services-with-deepfake-news',\n",
              "    'isHosted': False,\n",
              "    'pillarId': 'pillar/news',\n",
              "    'pillarName': 'News'},\n",
              "   {'id': 'commentisfree/2024/feb/07/ai-artificial-intelligence-chatbot-nurses-labour-nhs-tech',\n",
              "    'type': 'article',\n",
              "    'sectionId': 'commentisfree',\n",
              "    'sectionName': 'Opinion',\n",
              "    'webPublicationDate': '2024-02-07T10:00:12Z',\n",
              "    'webTitle': 'AI doctors and chatbot nurses? Labour must show the future of the NHS isn’t so dystopian | Jeni Tennison',\n",
              "    'webUrl': 'https://www.theguardian.com/commentisfree/2024/feb/07/ai-artificial-intelligence-chatbot-nurses-labour-nhs-tech',\n",
              "    'apiUrl': 'https://content.guardianapis.com/commentisfree/2024/feb/07/ai-artificial-intelligence-chatbot-nurses-labour-nhs-tech',\n",
              "    'isHosted': False,\n",
              "    'pillarId': 'pillar/opinion',\n",
              "    'pillarName': 'Opinion'},\n",
              "   {'id': 'technology/2024/feb/06/meta-ai-images-instagram-facebook-label-crackdown',\n",
              "    'type': 'article',\n",
              "    'sectionId': 'technology',\n",
              "    'sectionName': 'Technology',\n",
              "    'webPublicationDate': '2024-02-06T13:01:32Z',\n",
              "    'webTitle': 'Meta pushes to label all AI images on Instagram and Facebook in crackdown on deceptive content',\n",
              "    'webUrl': 'https://www.theguardian.com/technology/2024/feb/06/meta-ai-images-instagram-facebook-label-crackdown',\n",
              "    'apiUrl': 'https://content.guardianapis.com/technology/2024/feb/06/meta-ai-images-instagram-facebook-label-crackdown',\n",
              "    'isHosted': False,\n",
              "    'pillarId': 'pillar/news',\n",
              "    'pillarName': 'News'},\n",
              "   {'id': 'technology/2024/feb/06/techscape-uk-artificial-intelligence-government-regulation',\n",
              "    'type': 'article',\n",
              "    'sectionId': 'technology',\n",
              "    'sectionName': 'Technology',\n",
              "    'webPublicationDate': '2024-02-06T11:53:22Z',\n",
              "    'webTitle': 'TechScape: Why is the UK so slow to regulate AI?',\n",
              "    'webUrl': 'https://www.theguardian.com/technology/2024/feb/06/techscape-uk-artificial-intelligence-government-regulation',\n",
              "    'apiUrl': 'https://content.guardianapis.com/technology/2024/feb/06/techscape-uk-artificial-intelligence-government-regulation',\n",
              "    'isHosted': False,\n",
              "    'pillarId': 'pillar/news',\n",
              "    'pillarName': 'News'}],\n",
              "  'leadContent': [{'id': 'technology/2024/feb/11/ai-safety-institute-needs-to-set-standards-rather-than-do-testing',\n",
              "    'type': 'article',\n",
              "    'sectionId': 'technology',\n",
              "    'sectionName': 'Technology',\n",
              "    'webPublicationDate': '2024-02-11T11:25:46Z',\n",
              "    'webTitle': 'UK’s AI Safety Institute ‘needs to set standards rather than do testing’',\n",
              "    'webUrl': 'https://www.theguardian.com/technology/2024/feb/11/ai-safety-institute-needs-to-set-standards-rather-than-do-testing',\n",
              "    'apiUrl': 'https://content.guardianapis.com/technology/2024/feb/11/ai-safety-institute-needs-to-set-standards-rather-than-do-testing',\n",
              "    'tags': [],\n",
              "    'references': [],\n",
              "    'isHosted': False,\n",
              "    'pillarId': 'pillar/news',\n",
              "    'pillarName': 'News'},\n",
              "   {'id': 'technology/2024/feb/10/ai-political-images-ban-trump-biden-midjourney',\n",
              "    'type': 'article',\n",
              "    'sectionId': 'technology',\n",
              "    'sectionName': 'Technology',\n",
              "    'webPublicationDate': '2024-02-10T17:52:55Z',\n",
              "    'webTitle': 'AI firm considers banning creation of political images for 2024 elections',\n",
              "    'webUrl': 'https://www.theguardian.com/technology/2024/feb/10/ai-political-images-ban-trump-biden-midjourney',\n",
              "    'apiUrl': 'https://content.guardianapis.com/technology/2024/feb/10/ai-political-images-ban-trump-biden-midjourney',\n",
              "    'tags': [],\n",
              "    'references': [],\n",
              "    'isHosted': False,\n",
              "    'pillarId': 'pillar/news',\n",
              "    'pillarName': 'News'},\n",
              "   {'id': 'technology/2024/feb/09/ai-safeguards-can-easily-be-broken-uk-safety-institute-finds',\n",
              "    'type': 'article',\n",
              "    'sectionId': 'technology',\n",
              "    'sectionName': 'Technology',\n",
              "    'webPublicationDate': '2024-02-09T18:41:36Z',\n",
              "    'webTitle': 'AI safeguards can easily be broken, UK Safety Institute finds',\n",
              "    'webUrl': 'https://www.theguardian.com/technology/2024/feb/09/ai-safeguards-can-easily-be-broken-uk-safety-institute-finds',\n",
              "    'apiUrl': 'https://content.guardianapis.com/technology/2024/feb/09/ai-safeguards-can-easily-be-broken-uk-safety-institute-finds',\n",
              "    'tags': [],\n",
              "    'references': [],\n",
              "    'isHosted': False,\n",
              "    'pillarId': 'pillar/news',\n",
              "    'pillarName': 'News'},\n",
              "   {'id': 'technology/2024/feb/06/dont-wait-for-post-office-style-scandal-before-regulating-ai-ministers-told',\n",
              "    'type': 'article',\n",
              "    'sectionId': 'technology',\n",
              "    'sectionName': 'Technology',\n",
              "    'webPublicationDate': '2024-02-06T00:01:46Z',\n",
              "    'webTitle': 'Don’t wait for Post Office-style scandal before regulating AI, ministers told',\n",
              "    'webUrl': 'https://www.theguardian.com/technology/2024/feb/06/dont-wait-for-post-office-style-scandal-before-regulating-ai-ministers-told',\n",
              "    'apiUrl': 'https://content.guardianapis.com/technology/2024/feb/06/dont-wait-for-post-office-style-scandal-before-regulating-ai-ministers-told',\n",
              "    'tags': [],\n",
              "    'references': [],\n",
              "    'isHosted': False,\n",
              "    'pillarId': 'pillar/news',\n",
              "    'pillarName': 'News'},\n",
              "   {'id': 'technology/2024/feb/04/labour-force-ai-firms-share-technology-test-data',\n",
              "    'type': 'article',\n",
              "    'sectionId': 'technology',\n",
              "    'sectionName': 'Technology',\n",
              "    'webPublicationDate': '2024-02-04T18:51:02Z',\n",
              "    'webTitle': 'Labour would force AI firms to share their technology’s test data',\n",
              "    'webUrl': 'https://www.theguardian.com/technology/2024/feb/04/labour-force-ai-firms-share-technology-test-data',\n",
              "    'apiUrl': 'https://content.guardianapis.com/technology/2024/feb/04/labour-force-ai-firms-share-technology-test-data',\n",
              "    'tags': [],\n",
              "    'references': [],\n",
              "    'isHosted': False,\n",
              "    'pillarId': 'pillar/news',\n",
              "    'pillarName': 'News'},\n",
              "   {'id': 'technology/2024/feb/03/ai-artificial-intelligence-tools-hiring-jobs',\n",
              "    'type': 'article',\n",
              "    'sectionId': 'technology',\n",
              "    'sectionName': 'Technology',\n",
              "    'webPublicationDate': '2024-02-03T13:00:17Z',\n",
              "    'webTitle': 'The AI tools that might stop you getting hired',\n",
              "    'webUrl': 'https://www.theguardian.com/technology/2024/feb/03/ai-artificial-intelligence-tools-hiring-jobs',\n",
              "    'apiUrl': 'https://content.guardianapis.com/technology/2024/feb/03/ai-artificial-intelligence-tools-hiring-jobs',\n",
              "    'tags': [],\n",
              "    'references': [],\n",
              "    'isHosted': False,\n",
              "    'pillarId': 'pillar/news',\n",
              "    'pillarName': 'News'},\n",
              "   {'id': 'technology/2024/feb/02/brisbane-portrait-prize-ai-allowed-rule',\n",
              "    'type': 'article',\n",
              "    'sectionId': 'technology',\n",
              "    'sectionName': 'Technology',\n",
              "    'webPublicationDate': '2024-02-02T04:44:39Z',\n",
              "    'webTitle': 'Australian ‘contemporary’ portrait prize allows entries wholly generated by AI ',\n",
              "    'webUrl': 'https://www.theguardian.com/technology/2024/feb/02/brisbane-portrait-prize-ai-allowed-rule',\n",
              "    'apiUrl': 'https://content.guardianapis.com/technology/2024/feb/02/brisbane-portrait-prize-ai-allowed-rule',\n",
              "    'tags': [],\n",
              "    'references': [],\n",
              "    'isHosted': False,\n",
              "    'pillarId': 'pillar/news',\n",
              "    'pillarName': 'News'},\n",
              "   {'id': 'technology/2024/feb/02/uk-ministers-urged-to-protect-creatives-whose-work-is-used-by-ai-firms',\n",
              "    'type': 'article',\n",
              "    'sectionId': 'technology',\n",
              "    'sectionName': 'Technology',\n",
              "    'webPublicationDate': '2024-02-02T00:01:33Z',\n",
              "    'webTitle': 'UK ministers urged to protect creatives whose work is used by AI firms',\n",
              "    'webUrl': 'https://www.theguardian.com/technology/2024/feb/02/uk-ministers-urged-to-protect-creatives-whose-work-is-used-by-ai-firms',\n",
              "    'apiUrl': 'https://content.guardianapis.com/technology/2024/feb/02/uk-ministers-urged-to-protect-creatives-whose-work-is-used-by-ai-firms',\n",
              "    'tags': [],\n",
              "    'references': [],\n",
              "    'isHosted': False,\n",
              "    'pillarId': 'pillar/news',\n",
              "    'pillarName': 'News'},\n",
              "   {'id': 'technology/2024/feb/01/more-than-half-uk-undergraduates-ai-essays-artificial-intelligence',\n",
              "    'type': 'article',\n",
              "    'sectionId': 'technology',\n",
              "    'sectionName': 'Technology',\n",
              "    'webPublicationDate': '2024-02-01T00:01:37Z',\n",
              "    'webTitle': 'More than half of UK undergraduates say they use AI to help with essays',\n",
              "    'webUrl': 'https://www.theguardian.com/technology/2024/feb/01/more-than-half-uk-undergraduates-ai-essays-artificial-intelligence',\n",
              "    'apiUrl': 'https://content.guardianapis.com/technology/2024/feb/01/more-than-half-uk-undergraduates-ai-essays-artificial-intelligence',\n",
              "    'tags': [],\n",
              "    'references': [],\n",
              "    'isHosted': False,\n",
              "    'pillarId': 'pillar/news',\n",
              "    'pillarName': 'News'},\n",
              "   {'id': 'technology/2024/jan/26/george-carlin-lawsuit-ai-standup-comedy-special',\n",
              "    'type': 'article',\n",
              "    'sectionId': 'technology',\n",
              "    'sectionName': 'Technology',\n",
              "    'webPublicationDate': '2024-01-26T17:27:02Z',\n",
              "    'webTitle': 'George Carlin’s estate sues over AI-generated standup comedy special',\n",
              "    'webUrl': 'https://www.theguardian.com/technology/2024/jan/26/george-carlin-lawsuit-ai-standup-comedy-special',\n",
              "    'apiUrl': 'https://content.guardianapis.com/technology/2024/jan/26/george-carlin-lawsuit-ai-standup-comedy-special',\n",
              "    'tags': [],\n",
              "    'references': [],\n",
              "    'isHosted': False,\n",
              "    'pillarId': 'pillar/news',\n",
              "    'pillarName': 'News'}]}}"
            ]
          },
          "metadata": {},
          "execution_count": 6
        }
      ],
      "source": [
        "x"
      ]
    },
    {
      "cell_type": "code",
      "execution_count": null,
      "id": "f72876fd",
      "metadata": {
        "id": "f72876fd",
        "outputId": "3bd4a86e-fd36-49fb-d4b2-3e56c663fd93",
        "colab": {
          "base_uri": "https://localhost:8080/"
        }
      },
      "outputs": [
        {
          "output_type": "stream",
          "name": "stdout",
          "text": [
            "https://www.theguardian.com/technology/2024/feb/11/ai-safety-institute-needs-to-set-standards-rather-than-do-testing\n",
            "\n",
            "\n",
            "https://www.theguardian.com/technology/2024/feb/10/ai-political-images-ban-trump-biden-midjourney\n",
            "\n",
            "\n",
            "https://www.theguardian.com/technology/2024/feb/09/ai-safeguards-can-easily-be-broken-uk-safety-institute-finds\n",
            "\n",
            "\n",
            "https://www.theguardian.com/fashion/2024/feb/08/ai-london-fashion-week\n",
            "\n",
            "\n",
            "https://www.theguardian.com/technology/2024/feb/08/us-outlaws-robocalls-ai-generated-voices\n",
            "\n",
            "\n",
            "https://www.theguardian.com/business/2024/feb/08/arm-shares-ai-chip-maker-revenue-tech-smartphone\n",
            "\n",
            "\n",
            "https://www.theguardian.com/technology/2024/feb/08/iran-backed-hackers-interrupt-uae-tv-streaming-services-with-deepfake-news\n",
            "\n",
            "\n",
            "https://www.theguardian.com/commentisfree/2024/feb/07/ai-artificial-intelligence-chatbot-nurses-labour-nhs-tech\n",
            "\n",
            "\n",
            "https://www.theguardian.com/technology/2024/feb/06/meta-ai-images-instagram-facebook-label-crackdown\n",
            "\n",
            "\n",
            "https://www.theguardian.com/technology/2024/feb/06/techscape-uk-artificial-intelligence-government-regulation\n",
            "\n",
            "\n"
          ]
        }
      ],
      "source": [
        "web_urls = [item['webUrl'] for item in x['response']['results']]\n",
        "\n",
        "for url in web_urls:\n",
        "    print(url)\n",
        "    print(\"\\n\")"
      ]
    },
    {
      "cell_type": "code",
      "execution_count": null,
      "id": "9cfad7bd",
      "metadata": {
        "id": "9cfad7bd"
      },
      "outputs": [],
      "source": [
        "import os\n",
        "from datetime import datetime\n",
        "\n",
        "# Create a folder with the current date and time format\n",
        "current_datetime = datetime.now()\n",
        "folder_name = current_datetime.strftime('%H_%M_%d_%m_%Y')\n",
        "\n",
        "if not os.path.exists(folder_name):\n",
        "    os.makedirs(folder_name)"
      ]
    },
    {
      "cell_type": "code",
      "execution_count": null,
      "id": "a8412b96",
      "metadata": {
        "id": "a8412b96",
        "outputId": "bd21ec3e-4c2b-4062-8b95-6c4c5f369e85",
        "colab": {
          "base_uri": "https://localhost:8080/"
        }
      },
      "outputs": [
        {
          "output_type": "stream",
          "name": "stdout",
          "text": [
            "Executed Perfectly\n"
          ]
        }
      ],
      "source": [
        "def save_content_to_file(url, folder, filename):\n",
        "    try:\n",
        "        response = requests.get(url)\n",
        "        if response.status_code == 200:\n",
        "            soup = BeautifulSoup(response.text, 'html.parser')\n",
        "\n",
        "            with open(os.path.join(folder, filename), 'w', encoding='utf-8') as file:\n",
        "                for header in soup.find_all(['h1']):\n",
        "                    file.write(\"Tile: \" + header.text + '\\n'*5)\n",
        "                for paragraph in soup.find_all('p'):\n",
        "                    file.write(paragraph.text + '\\n')\n",
        "        else:\n",
        "            print(\"Failed to retrieve the page:\", url)\n",
        "    except Exception as e:\n",
        "        print(\"An error occurred:\", e)\n",
        "\n",
        "# Loop through the list of web URLs and save content to separate text files\n",
        "for index, url in enumerate(web_urls):\n",
        "    filename = f'article_{index}.txt'  # Create a unique filename for each article\n",
        "    save_content_to_file(url, folder_name, filename)\n",
        "\n",
        "print(\"Executed Perfectly\")"
      ]
    }
  ],
  "metadata": {
    "kernelspec": {
      "display_name": "Python 3 (ipykernel)",
      "language": "python",
      "name": "python3"
    },
    "language_info": {
      "codemirror_mode": {
        "name": "ipython",
        "version": 3
      },
      "file_extension": ".py",
      "mimetype": "text/x-python",
      "name": "python",
      "nbconvert_exporter": "python",
      "pygments_lexer": "ipython3",
      "version": "3.11.5"
    },
    "colab": {
      "provenance": [],
      "include_colab_link": true
    }
  },
  "nbformat": 4,
  "nbformat_minor": 5
}